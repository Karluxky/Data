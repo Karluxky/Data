{
  "cells": [
    {
      "cell_type": "markdown",
      "metadata": {
        "id": "view-in-github",
        "colab_type": "text"
      },
      "source": [
        "<a href=\"https://colab.research.google.com/github/Karluxky/Data/blob/main/%D0%9A%D0%BE%D0%BF%D0%B8%D1%8F_%D0%B1%D0%BB%D0%BE%D0%BA%D0%BD%D0%BE%D1%82%D0%B0_%2210_python_ipynb%22.ipynb\" target=\"_parent\"><img src=\"https://colab.research.google.com/assets/colab-badge.svg\" alt=\"Open In Colab\"/></a>"
      ]
    },
    {
      "cell_type": "markdown",
      "metadata": {
        "id": "DnCuvals_9K7"
      },
      "source": [
        "# 10-DARS. `IF-ELSE`\n",
        "\n",
        "Dasturni tarmoqlashni o'rganamiz"
      ]
    },
    {
      "cell_type": "markdown",
      "metadata": {
        "id": "4mTSiyed_9K-"
      },
      "source": [
        "![](https://gblobscdn.gitbook.com/assets%2F-MGbkqs1tROquIT6oqUs%2F-Mc-5yGQPZTBaGoehQdL%2F-Mc-7xpq4Puu3KEjmT0R%2FSD_YT_TG_logo_mini.png?alt=media&token=929fe67b-ec12-4f63-b33e-e9c5e3d8ad09)"
      ]
    },
    {
      "cell_type": "markdown",
      "metadata": {
        "id": "Id1J3wsp_9K_"
      },
      "source": [
        "# TARMOQLANISH\n",
        "\n",
        "Shu vaqtgacha yozgan dasturlarimizga e'tibor bersangiz, dasturimiz yuqoridan pastga qarab qatorma-qator bajarilib keldi. Bu chiziqli dastur deyiladi. Voqelikda esa aksar dasturlar ma'lum bir shart bajarilishi (yoki bajarilmaganiga) ko'ra kodning bir qismidan boshqa qismiga \"sakrab\" o'tishi tabiiy hol. Dasturlashda bu **tarmoqlanish** deb ataladi.\n",
        "\n",
        "![](https://gblobscdn.gitbook.com/assets%2F-MGbkqs1tROquIT6oqUs%2F-MMYB3w5bqcxar0xuzi2%2F-MMcrT4AK37JNwfmXziF%2Ffig1.png?alt=media&token=176c0f12-d46f-43cd-a374-19c69f3caf3a)\n",
        "\n",
        "Ushbu darsimizda biz if operatori yordamida shunday shartlarni yozishni, tekshirishni va tekshiruv natijasiga ko'ra kodning turli qismlarini bajarishni o'rganamiz.\n",
        "\n",
        "# `if` OPERATORI\n",
        "**if** so'zi ingliz tilidan **\"agar\"** deb tarjima qilinadi va deyarli barcha dasturlash tillarida shartlarni yozish uchun foydalaniladi.\n",
        "\n",
        "Keling quyidagi misolni ko'ramiz. Bizda avtolar ro'yxati bor:"
      ]
    },
    {
      "cell_type": "code",
      "execution_count": null,
      "metadata": {
        "id": "yLQ0rU6v_9LA"
      },
      "outputs": [],
      "source": [
        "avtolar = ['audi','bmw','volvo','kia','hyundai']"
      ]
    },
    {
      "cell_type": "markdown",
      "metadata": {
        "id": "203V9UlF_9LB"
      },
      "source": [
        "Biz ro'yxatdagi har bil elementni katta harf bilan konsolga chiqarmoqchimiz. Bunda istisno sifatida \"BMW\" mashinasi nomini hamma harflarini katta bilan chiqarishimiz kerak.\n",
        "\n",
        "Demak quyidagi kodni yozamiz:"
      ]
    },
    {
      "cell_type": "code",
      "execution_count": null,
      "metadata": {
        "id": "mYD8gqzx_9LB"
      },
      "outputs": [],
      "source": [
        "for avto in avtolar: # avtolar ichidadi har bir avto uchun ...\n",
        "    if avto == 'bmw':  # ... agar avto bmw ga teng bo'lsa ...\n",
        "        print(avto.upper()) # avto nomini hamma harflarini katta bilan yoz.\n",
        "    else: # aks holda ...\n",
        "        print(avto.title()) # avto nomini faqat birinchi harfini katta bilann yoz."
      ]
    },
    {
      "cell_type": "markdown",
      "metadata": {
        "id": "M2866eWa_9LB"
      },
      "source": [
        "Kodni tahlil qilaylik:\n",
        "- 1-qatorda biz for tsiklini boshladik: *avto ichidagi har bir avto uchun*.\n",
        "- 2-qatorda shart yozdik: agar avto `bmw` ga teng bo'lsa (bu yerda `==` belgisi tenglikni tekshirish belgisi hisoblanadi va **\"avto bmw ga tengmi?\"** deb o'qiladi).\n",
        "- 3-qator yuqoridagi shartning badani hisoblanadi va faqatgina shart bajarilgandagina ishga tushadi va avto nomini hamma harflarini katta bilan yozadi (`.upper()` metodi).\n",
        "- 4-qatorda yana bir yangi operator, `else` bilan tanishamiz. **\"Else\"** ingliz tilidan **\"aks holda\"** deb tarjima qilinadi va `if` sharti bajarilmaganda `else` qismi ichidagi kod bajariladi.\n",
        "- 5-qator esa `else` (aks holda, ya'ni 2- qatordagi shart bajarilmaganda) ishga tushadi va avto nomining faqat birinchi harfini katta bilan yozadi (`.title()` metodi)\n",
        "\n",
        "> **Diqqat!** Shart \"badani\" shartdan biroz o'ngga surib yoziladi (huddi for tsikli kabi). if/else dan keyin kelgan va o'ngga surib yozilgan har bir qator if/else shartining badani hisoblanadi.\n",
        "\n",
        "Yuoqridagi kodni bajaramiz, va natijani ko'ramiz:"
      ]
    },
    {
      "cell_type": "code",
      "execution_count": null,
      "metadata": {
        "id": "-lh6zmA5_9LC",
        "outputId": "2a0f3334-9d5a-4e5c-fd46-3328f2451c1f"
      },
      "outputs": [
        {
          "name": "stdout",
          "output_type": "stream",
          "text": [
            "Audi\n",
            "BMW\n",
            "Volvo\n",
            "Kia\n",
            "Hyundai\n"
          ]
        }
      ],
      "source": [
        "avtolar = ['audi','bmw','volvo','kia','hyundai']\n",
        "for avto in avtolar: # avtolar ichidadi har bir avto uchun ...\n",
        "    if avto == 'bmw':  # ... agar avto bmw ga teng bo'lsa ...\n",
        "        print(avto.upper()) # avto nomini hamma harflarini katta bilan yoz.\n",
        "    else: # aks holda ...\n",
        "        print(avto.title()) # avto nomini faqat birinchi harfini katta bilan yoz."
      ]
    },
    {
      "cell_type": "markdown",
      "metadata": {
        "id": "6a22Jc3Q_9LD"
      },
      "source": [
        "# TRUE/FALSE\n",
        "Yuqorida shartni tekshirish uchun `==` operatoridan foydalandik. Bu operatorni oddiy tilga tarjima qilsak **\"tengmi?\"** degan ma'noni beradi.\n",
        "\n",
        "Agar shartning ikki tarafidagi qiymatlar teng bo'lsa ifoda `TRUE` qiymatini qaytaradi (\"True\" so'zi ingliz tilidan \"haqiqiy\" yoki \"to'g'ri\" deb tarjima qilinadi).\n",
        "\n",
        "Aksincha, qiymatlar tenglik qanoatlantirilmasa, ifoda `FALSE` qiymatini qaytaradi (\"False\" so'zini ingliz tilidan \"yolg'on\" deb tarjima qilsak bo'ladi).\n",
        "\n",
        "Quyidagi misollarga e'tibor bering. Biz `ism` degan o'zgaruvchi yaratdik, va unga `'Ali'` matnini yukladik. Keling endi `==` yordamida `ism` ning qiymatini tekshirib ko'ramiz:"
      ]
    },
    {
      "cell_type": "code",
      "execution_count": null,
      "metadata": {
        "id": "sQrjYAqw_9LD"
      },
      "outputs": [],
      "source": [
        "ism='Ali'"
      ]
    },
    {
      "cell_type": "code",
      "execution_count": null,
      "metadata": {
        "id": "0wMqcg4p_9LD",
        "outputId": "71ee831a-bcbb-4179-930c-26053bf7f566"
      },
      "outputs": [
        {
          "data": {
            "text/plain": [
              "True"
            ]
          },
          "execution_count": 8,
          "metadata": {},
          "output_type": "execute_result"
        }
      ],
      "source": [
        "ism=='Ali'"
      ]
    },
    {
      "cell_type": "code",
      "execution_count": null,
      "metadata": {
        "id": "7AcEfHbk_9LD",
        "outputId": "7e45d408-9786-40c5-ea0f-22ef87f7b564"
      },
      "outputs": [
        {
          "data": {
            "text/plain": [
              "False"
            ]
          },
          "execution_count": 9,
          "metadata": {},
          "output_type": "execute_result"
        }
      ],
      "source": [
        "ism=='Vali'"
      ]
    },
    {
      "cell_type": "markdown",
      "metadata": {
        "id": "iG3aIYkU_9LE"
      },
      "source": [
        "Ko'rib turganingizdek avval `ism=='Ali'` (ism 'Ali' ga tengmi?) deb so'raganimizda, ifoda `TRUE` (Ha) degan javobni qaytardi, keyin esa `ism=='Vali'` (ism 'Vali' ga tengmi?) deb so'raganimizda esa, ifoda `FALSE` (Yo'q) deb qiymat qaytardi.\n",
        "\n",
        "Demak, `if/else` bog'lamasida, `i`f ning badani ifoda `True` bo'lganda, `else` ning badani esa ifoda `False` bo'lganda bajariladi."
      ]
    },
    {
      "cell_type": "markdown",
      "metadata": {
        "id": "OU7y7aoQ_9LE"
      },
      "source": [
        "# MATNLARNI SOLISHTIRISH"
      ]
    },
    {
      "cell_type": "markdown",
      "metadata": {
        "id": "UhFhyECq_9LF"
      },
      "source": [
        "Aksar tizimlar foydalanuvchi kiritgan matnni ma'lum bir ko'rinishga keltirib oladi. Buning sababi, kompyuter uchun `'Ali'`, `'ALI'`, va `'ali'` bu uchta turli hil ism. Ularni solishtirish uchun esa bir ko'rinishga keltirib olish kerak.\n",
        "\n",
        "Tasavvur qiling siz yangi email manzil ochmoqchisiz, va o'zingizga yangi foydalanuvchi ismini tanlashingiz kerak. Kompyuter siz kiritgan foydalanuvchi ismini tizimdagi mavjud foydalanuvchilar bilan solishtiradi va agar ism band bo'lsa sizga boshqa ism tanlashni aytadi. Solishtirish jarayonida esa, siz tanlagan ismni kichik harflarga o'tkazib, boshqa ismlar bilan solishtiradi.\n",
        "\n",
        "![](https://gblobscdn.gitbook.com/assets%2F-MGbkqs1tROquIT6oqUs%2F-MMeP_WLpHkdzcxiw2zi%2F-MMeU64riTA_t65PqoXr%2Fimage.png?alt=media&token=67317e40-bfd0-4173-bd32-3c43d10f7a37)\n",
        "\n",
        "Yuqoridagi misolda, kimdur `anvar@yandex.ru` manzilini band qilgan, agarda men `'Anvar'`, yoki `'ANvar'`, yoki `'ANVAR'` deb login tanlasam ham, `anvar@yandex.ru` band bo'gani sababli men so'ragan loginlar rad qilinaveradi.\n",
        "\n",
        "Xo'sh, turli ko'rinishda yozilgan matnlarni qanday qilib solishtiramiz? Juda oddiy. Matnlarni solishtirishdan avval `.lower()` metodi yordamida kichik harflar ko'rinishiga keltirib olamiz:\n"
      ]
    },
    {
      "cell_type": "code",
      "execution_count": null,
      "metadata": {
        "id": "pbLZQoYp_9LF",
        "outputId": "aa33cd21-1995-4e53-e828-0b44bdf9dc5e"
      },
      "outputs": [
        {
          "data": {
            "text/plain": [
              "True"
            ]
          },
          "execution_count": 10,
          "metadata": {},
          "output_type": "execute_result"
        }
      ],
      "source": [
        "ism = 'Ali'\n",
        "ism.lower() == 'ali'"
      ]
    },
    {
      "cell_type": "markdown",
      "metadata": {
        "id": "-Mqn_L6k_9LG"
      },
      "source": [
        "# QIYMATLARNING TENG EMASLIGINI TEKSHIRISH\n",
        "\n",
        "Agar ikki qiymatning teng emasligini tekshirish talab qilinsa, `!=` operatoridan foydalanilamiz."
      ]
    },
    {
      "cell_type": "code",
      "execution_count": null,
      "metadata": {
        "id": "g5HKxru3_9LG",
        "outputId": "907f136e-3e6d-44c8-efbc-24ae312056f6"
      },
      "outputs": [
        {
          "name": "stdout",
          "output_type": "stream",
          "text": [
            "Ismingiz nima?\n",
            ">>>anvar\n",
            "Uzr, Anvar biz Alini kutayapmiz.\n"
          ]
        }
      ],
      "source": [
        "ism = input('Ismingiz nima?\\n>>>') # Foydalanuvchi ismini so'raymiz\n",
        "if ism.lower() != 'ali': # Agar ism Aliga teng bo'lmasa ...\n",
        "    print(f\"Uzr, {ism.title()} biz Alini kutayapmiz.\") # quyidagi xabar chiqadi\n",
        "else:\n",
        "    print(\"Salom, Ali\")"
      ]
    },
    {
      "cell_type": "markdown",
      "metadata": {
        "id": "KVCNJjKf_9LH"
      },
      "source": [
        "Demak yuqoridagi kodning 2-qatorida `ism` ichidagi qiymat `'ali'` ga teng bo'lmasa `\"Uzr, {ism} biz Alini kutyapmiz\"` degan xabarni chiqar dedik. Aks holda (`else`), `\"Salom, Ali\"` degan xabar chiqadi.\n",
        "\n",
        "> Shartlarda `else` qismi bo'lishi majburiy emas. Bunga keyingi bo'limlarda tushunarliroq misollar ko'ramiz."
      ]
    },
    {
      "cell_type": "markdown",
      "metadata": {
        "id": "mp7ftxZl_9LH"
      },
      "source": [
        "# SONLARNI SOLISHTIRISH\n",
        "\n",
        "Sonlarni solishtirishda yuqoridagi teng (`==`) va teng emas (`!=`) shartlariga qo'shimcha ravishda quyidagi mantiqiy shartlar ham qo'shiladi:\n",
        "\n",
        "- Kichik: `a<b`\n",
        "- Kichik yoki teng: `a<=b`\n",
        "- Katta: `a>b`\n",
        "- Katta yoki teng: `a>=b`"
      ]
    },
    {
      "cell_type": "code",
      "execution_count": null,
      "metadata": {
        "id": "unHldlIy_9LH",
        "outputId": "782c5129-5ad2-473d-984d-0dfaa0a4b042"
      },
      "outputs": [
        {
          "name": "stdout",
          "output_type": "stream",
          "text": [
            "12x6 nechiga teng?>>>18\n",
            "Javob xato!\n"
          ]
        }
      ],
      "source": [
        "javob = float(input(\"12x6 nechiga teng?>>>\"))\n",
        "if javob!=72:\n",
        "    print(\"Javob xato!\")"
      ]
    },
    {
      "cell_type": "code",
      "execution_count": null,
      "metadata": {
        "id": "s20UTaC6_9LH",
        "outputId": "d0a7b42d-8555-4e43-94e2-f75788752a1a"
      },
      "outputs": [
        {
          "name": "stdout",
          "output_type": "stream",
          "text": [
            "Yoshingiz nechida?>>>22\n",
            "Xush kelibsiz!\n"
          ]
        }
      ],
      "source": [
        "yosh = int(input(\"Yoshingiz nechida?>>>\"))\n",
        "if yosh>=18: # yosh 18 dan katta yoki teng bo'lsa\n",
        "    print('Xush kelibsiz!')\n",
        "else: # ask holda\n",
        "    print('Kirish mumkin emas!')"
      ]
    },
    {
      "cell_type": "code",
      "execution_count": null,
      "metadata": {
        "id": "9Lv56HFg_9LI",
        "outputId": "2d856f3d-695f-46b9-c438-858ca508b4b3"
      },
      "outputs": [
        {
          "name": "stdout",
          "output_type": "stream",
          "text": [
            "Yangi login tanlang:akmal\n",
            "Login 5 harfdan ko'proq bo'lishi shart!\n"
          ]
        }
      ],
      "source": [
        "login = input(\"Yangi login tanlang:\")\n",
        "if len(login)<=5: # login uzunligini tekshiramiz\n",
        "    print(\"Login 5 harfdan ko'proq bo'lishi shart!\")"
      ]
    },
    {
      "cell_type": "code",
      "execution_count": null,
      "metadata": {
        "id": "yQnMvnWX_9LI",
        "outputId": "8de14f1e-ca6d-426d-b1e2-158050785d33"
      },
      "outputs": [
        {
          "name": "stdout",
          "output_type": "stream",
          "text": [
            "Tug'ilgan yilingizni kiriting:2007\n",
            "Yoshingiz 13da ekan.\n",
            "Kirish mumkin emas!\n"
          ]
        }
      ],
      "source": [
        "yil = int(input(\"Tug'ilgan yilingizni kiriting:\"))\n",
        "if 2020-yil<18: # foydalanuvchining yoshini hisoblaymiz\n",
        "    print(f\"Yoshingiz {2020-yil}da ekan.\")\n",
        "    print(\"Kirish mumkin emas!\")\n",
        "else:\n",
        "    print(\"Xush kelibsiz!\")"
      ]
    },
    {
      "cell_type": "markdown",
      "metadata": {
        "id": "DE2Mlvyn_9LI"
      },
      "source": [
        "# BIR QATOR if/else\n",
        "\n",
        "Qisqa kodlar uchun shart va uning badanini 1 qatorga jamlab yozishimiz ham mumkin:\n"
      ]
    },
    {
      "cell_type": "code",
      "execution_count": null,
      "metadata": {
        "id": "UCNfQLxB_9LI",
        "outputId": "85afca9b-6b49-4ee9-9789-1b3543b69faa"
      },
      "outputs": [
        {
          "name": "stdout",
          "output_type": "stream",
          "text": [
            "Yoshingiz nechida?>>>66\n",
            "Siz COVID-19 risk guruhida ekansiz\n"
          ]
        }
      ],
      "source": [
        "yosh = int(input(\"Yoshingiz nechida?>>>\"))\n",
        "if yosh>65: print(\"Siz COVID-19 risk guruhida ekansiz\")"
      ]
    },
    {
      "cell_type": "code",
      "execution_count": null,
      "metadata": {
        "id": "EHzMSwsJ_9LJ",
        "outputId": "2377959d-fddc-4be5-d852-cd7b6df27416"
      },
      "outputs": [
        {
          "name": "stdout",
          "output_type": "stream",
          "text": [
            "x<y\n"
          ]
        }
      ],
      "source": [
        "x, y = 25, 50 # x=25 va y=50\n",
        "print(\"x>y\") if x>y else print(\"x<y\")"
      ]
    },
    {
      "cell_type": "markdown",
      "metadata": {
        "id": "4dtYNcby_9LJ"
      },
      "source": [
        "# AMALIYOT\n",
        "\n",
        "- Yangi `cars = ['toyota', 'mazda', 'hyundai', 'gm', 'kia']` degan ro'yxat tuzing, ro'yxat elementlarining birinchi harfini katta qilib konsolga chqaring. `GM` uchun ikkala harfni katta qiling.\n",
        "- Yuqoridagi mashqni teng emas (`!=`) operatori yordamida bajaring.\n",
        "- Foydalanuvchi login ismini so'rang. Agar login `admin` bo'lsa, `\"Xush kelibsiz, Admin. Foydalanuvchilar ro'yxatini ko'rasizmi?\"` xabarini konsolga chiqaring. Aks holda, `\"Xush kelibsiz, {foydalanuvchi_ismi}!\"`  matnini konsolga chiqaring.\n",
        "- Foydalanuvchidan 2 ta son kiritishni so'rang. Agar ikki son bir-biriga teng bo'lsa, `\"Sonlar teng\"` ekan degan yozuvni konsolga chiqaring.\n",
        "- Foydalanuvchidan istalgan son kiritishni so'rang. Agar son manfiy bo'lsa konsolga `\"Manfiy son\"`, agar musbat bo'lsa `\"Musbat son\"` degan xabarni chiqaring.\n",
        "- Foydalanuvchidan son kiritishni so'rang, agar son musbat bo'lsa uning ildizini hisoblab konsolga chiqaring. Agar son manfiy bo'lsa, `\"Musbat son kiriting\"` degan xabarni chiqaring."
      ]
    },
    {
      "cell_type": "code",
      "source": [
        "#Yangi cars = ['toyota', 'mazda', 'hyundai', 'gm', 'kia'] degan ro'yxat tuzing, ro'yxat elementlarining birinchi harfini katta qilib konsolga chqaring. GM uchun ikkala harfni katta qiling.\n",
        "cars = ['toyota', 'mazda', 'hyundai', 'gm', 'kia']\n",
        "for car in cars:\n",
        "  if car == 'gm':\n",
        "    print(car.upper())\n",
        "  else:\n",
        "    print(car.title())\n"
      ],
      "metadata": {
        "colab": {
          "base_uri": "https://localhost:8080/"
        },
        "id": "V0-LojjAEvu-",
        "outputId": "dd4c7fb5-99d5-4de5-e0e4-c674eeb49b30"
      },
      "execution_count": null,
      "outputs": [
        {
          "output_type": "stream",
          "name": "stdout",
          "text": [
            "Toyota\n",
            "Mazda\n",
            "Hyundai\n",
            "GM\n",
            "Kia\n"
          ]
        }
      ]
    },
    {
      "cell_type": "code",
      "source": [
        "#Yuqoridagi mashqni teng emas (!=) operatori yordamida bajaring.\n",
        "cars = ['toyota', 'mazda', 'hyundai', 'gm', 'kia']\n",
        "for car in cars:\n",
        "  if car!= 'gm':\n",
        "    print(car.title())\n",
        "  else:\n",
        "    print(car.upper())\n"
      ],
      "metadata": {
        "colab": {
          "base_uri": "https://localhost:8080/"
        },
        "id": "2zndXofUFgzS",
        "outputId": "a0b52ad4-e0a0-479a-8315-51935c016a7a"
      },
      "execution_count": null,
      "outputs": [
        {
          "output_type": "stream",
          "name": "stdout",
          "text": [
            "Toyota\n",
            "Mazda\n",
            "Hyundai\n",
            "GM\n",
            "Kia\n"
          ]
        }
      ]
    },
    {
      "cell_type": "code",
      "source": [
        "#Foydalanuvchi login ismini so'rang. Agar login admin bo'lsa, \"Xush kelibsiz, Admin. Foydalanuvchilar ro'yxatini ko'rasizmi?\"\n",
        "login = input(\"Loginingizni kiriting: \")\n",
        "if login== \"admin\":\n",
        "  print(\"Xush kelibsiz, Admin. Foydalanuvchilar ro'yxatini ko'rasizmi?\")\n",
        "else:\n",
        "  print(\"Qaytar urunib ko\\'ring\")"
      ],
      "metadata": {
        "colab": {
          "base_uri": "https://localhost:8080/"
        },
        "id": "IKjWBgUjHFy_",
        "outputId": "94402568-c015-4c05-82a5-57fc207eb5c6"
      },
      "execution_count": null,
      "outputs": [
        {
          "output_type": "stream",
          "name": "stdout",
          "text": [
            "Loginingizni kiriting: mam\n",
            "Qaytar urunib ko'ring\n"
          ]
        }
      ]
    },
    {
      "cell_type": "markdown",
      "metadata": {
        "id": "ljdR4QpU_9LJ"
      },
      "source": [
        "# JAVOBLAR"
      ]
    },
    {
      "cell_type": "code",
      "execution_count": null,
      "metadata": {
        "id": "nMPWbJRl_9LJ",
        "outputId": "751eec4a-7219-4062-b316-27df4820f713"
      },
      "outputs": [
        {
          "name": "stdout",
          "output_type": "stream",
          "text": [
            "Toyota\n",
            "Mazda\n",
            "Hyundai\n",
            "GM\n",
            "Kia\n"
          ]
        }
      ],
      "source": [
        "#Yangi cars = ['toyota', 'mazda', 'hyundai', 'gm', 'kia'] degan ro'yxat tuzing, ro'yxat elementlarining birinchi harfini katta qilib konsolga chqaring. GM uchun ikkala harfni katta qiling.\n",
        "cars = ['toyota', 'mazda', 'hyundai', 'gm', 'kia']\n",
        "for car in cars:\n",
        "  if car=='gm':\n",
        "    print(car.upper())\n",
        "  else:\n",
        "    print(car.title())"
      ]
    },
    {
      "cell_type": "code",
      "execution_count": null,
      "metadata": {
        "id": "aKkNpllq_9LK",
        "outputId": "288d4f4a-0c2e-4dbd-c192-04e6e88b2cfa"
      },
      "outputs": [
        {
          "name": "stdout",
          "output_type": "stream",
          "text": [
            "Toyota\n",
            "Mazda\n",
            "Hyundai\n",
            "GM\n",
            "Kia\n"
          ]
        }
      ],
      "source": [
        "#Yuqoridagi mashqni teng emas (!=) operatori yordamida bajaring.\n",
        "cars = ['toyota', 'mazda', 'hyundai', 'gm', 'kia']\n",
        "for car in cars:\n",
        "  if car!='gm':\n",
        "    print(car.title())\n",
        "  else:\n",
        "    print(car.upper())"
      ]
    },
    {
      "cell_type": "code",
      "execution_count": null,
      "metadata": {
        "id": "bO6WBHjA_9LK",
        "outputId": "92e17c61-290d-4f03-fe36-96f864f9d1e3"
      },
      "outputs": [
        {
          "name": "stdout",
          "output_type": "stream",
          "text": [
            "Login kiriting: admin\n",
            "Xush kelibsiz Admin, foydalanuvchilar ro'yxatini ko'rasizmi?\n"
          ]
        }
      ],
      "source": [
        "#Foydalanuvchi login ismini so'rang. Agar login admin bo'lsa, \"Xush kelibsiz, Admin. Foydalanuvchilar ro'yxatini ko'rasizmi?\" xabarini konsolga chiqaring. Aks xolda, \"Xush kelibsiz, {foydalanuvchi_ismi}!\" matnini konsolga chiqaring.\n",
        "login = input(\"Login kiriting: \")\n",
        "if login.lower() == 'admin':\n",
        "  print(\"Xush kelibsiz Admin, foydalanuvchilar ro'yxatini ko'rasizmi?\")\n",
        "else:\n",
        "  print(f\"Xush kelibsiz {login.title()}!\")"
      ]
    },
    {
      "cell_type": "code",
      "execution_count": null,
      "metadata": {
        "id": "B8dxvwxQ_9LK",
        "outputId": "88afe58e-5990-4b8b-de63-70f1fb1542d3"
      },
      "outputs": [
        {
          "name": "stdout",
          "output_type": "stream",
          "text": [
            "Birinchi sonni kiriting: 12\n",
            "Ikkinchi sonni kiriting:25\n"
          ]
        }
      ],
      "source": [
        "#Foydalanuvchidan 2 ta son kiritishni so'rang. Agar ikki son bir-biriga teng bo'lsa, \"Sonlar teng\" ekan degan yozuvni konsolga chiqaring.\n",
        "x = float(input(\"Birinchi sonni kiriting: \"))\n",
        "y = float(input(\"Ikkinchi sonni kiriting:\"))\n",
        "if x==y: print(f\"Sonlar teng: {x}={y}\")"
      ]
    },
    {
      "cell_type": "code",
      "execution_count": null,
      "metadata": {
        "id": "D6c3E7Fa_9LL",
        "outputId": "4349e8ae-64f0-4a58-ffe1-24605d422102"
      },
      "outputs": [
        {
          "name": "stdout",
          "output_type": "stream",
          "text": [
            "Istalgan son kiriting:-25\n",
            "Son manfiy\n"
          ]
        }
      ],
      "source": [
        "#Foydalanuvchidan istalgan son kiritishni so'rang. Agar son manfiy bo'lsa konsolga \"Manfiy son\", agar musbat bo'lsa \"Musbat son\" degan xabarni chiqaring.\n",
        "son = float(input(\"Istalgan son kiriting:\"))\n",
        "print(\"Son manfiy\") if son<0 else print(\"Son musbat\")"
      ]
    },
    {
      "cell_type": "code",
      "execution_count": null,
      "metadata": {
        "id": "Kj0Y9hRA_9LL",
        "outputId": "6893a4d5-1255-4965-c5ef-53decb251def"
      },
      "outputs": [
        {
          "name": "stdout",
          "output_type": "stream",
          "text": [
            "Istalgan son kiriting: 65\n",
            "8.06225774829855\n"
          ]
        }
      ],
      "source": [
        "#Foydalanuvchidan son kiritishni so'rang, agar son musbat bo'lsa uning ildizini hisoblab konsolga chiqaring. Agar son manfiy bo'lsa, \"Musbat son kiriting\" degan xabarni chiqaring.\n",
        "son = float(input('Istalgan son kiriting: '))\n",
        "print(son**(1/2)) if son>0 else print('Musbat son kiriting')"
      ]
    }
  ],
  "metadata": {
    "kernelspec": {
      "display_name": "Python 3",
      "language": "python",
      "name": "python3"
    },
    "language_info": {
      "codemirror_mode": {
        "name": "ipython",
        "version": 3
      },
      "file_extension": ".py",
      "mimetype": "text/x-python",
      "name": "python",
      "nbconvert_exporter": "python",
      "pygments_lexer": "ipython3",
      "version": "3.8.6"
    },
    "colab": {
      "provenance": [],
      "include_colab_link": true
    }
  },
  "nbformat": 4,
  "nbformat_minor": 0
}